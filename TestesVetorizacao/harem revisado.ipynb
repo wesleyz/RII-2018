{
 "cells": [
  {
   "cell_type": "code",
   "execution_count": 5,
   "metadata": {},
   "outputs": [
    {
     "name": "stderr",
     "output_type": "stream",
     "text": [
      "/media/wesleyz/HD1Tera/anacond3/lib/python3.6/site-packages/sklearn/preprocessing/data.py:645: DataConversionWarning: Data with input dtype int64 were all converted to float64 by StandardScaler.\n",
      "  return self.partial_fit(X, y)\n",
      "/media/wesleyz/HD1Tera/anacond3/lib/python3.6/site-packages/sklearn/base.py:464: DataConversionWarning: Data with input dtype int64 were all converted to float64 by StandardScaler.\n",
      "  return self.fit(X, **fit_params).transform(X)\n"
     ]
    }
   ],
   "source": [
    "\n",
    "#!/usr/bin/env python3\n",
    "# -*- coding: utf-8 -*-\n",
    "\"\"\"\n",
    "Created on Fri Jun  7 12:52:01 2019\n",
    "\n",
    "@author: wesleyz\n",
    "\"\"\"\n",
    "%matplotlib inline\n",
    "import os\n",
    "import numpy as np\n",
    "import matplotlib.pyplot as plt\n",
    "from matplotlib.colors import ListedColormap\n",
    "from sklearn import neighbors, datasets\n",
    "from sklearn.metrics import confusion_matrix\n",
    "from sklearn.metrics import classification_report\n",
    "import pandas as pd \n",
    "from sklearn import preprocessing\n",
    "\n",
    "path = os.getcwd() # my actual path    \n",
    "# Read data from file 'filename.csv' \n",
    "# (in the same directory that your python process is based)\n",
    "# Control delimiters, rows, column names with read_csv (see later) \n",
    "\n",
    "\n",
    "#\"features-harem-cd-1.csv\"\n",
    "#\"labels-harem-cd-1.csv\"\n",
    "\n",
    "filedata = path + '/features-CDsHarem-revisado_treino.csv'\n",
    "fileLabel = path + '/labels-names-CDsHarem-revisado_treino.csv'\n",
    "fullfile = path + '/full-CDsHarem-revisado_treino.csv'\n",
    "\n",
    "#data = pd.read_csv(\"features-harem-cd-1.csv\") \n",
    "data = pd.read_csv(filedata) \n",
    "label = pd.read_csv(fileLabel) \n",
    "fulldata = pd.read_csv(fullfile) \n",
    "\n",
    "\n",
    "\n",
    "def classifica(df, k):\n",
    "    bench = []\n",
    "    # Preview the first 5 lines of the loaded data \n",
    "    from sklearn.model_selection import train_test_split\n",
    "    X_train, X_test, y_train, y_test = train_test_split(df.loc[:, df.columns != 'label'], fulldata.label, test_size=0.20, random_state=42)\n",
    "    maxi = []\n",
    "    print('B_PESSOA-------------------------------------')\n",
    "    for i in range(20,30,1):    \n",
    "        \n",
    "        fig = plt.figure()    \n",
    "        clf = neighbors.KNeighborsClassifier(i, n_jobs = 20)\n",
    "        clf.fit(X_train,y_train)\n",
    "        y_pred = clf.predict(X_test)        \n",
    "        #y_pred = clf.predict(fulldata.loc[:, fulldata.columns != 'label'])        \n",
    "        cr = classification_report(y_test, y_pred, output_dict=True)            \n",
    "        print(cr)\n",
    "        for j in  ['precision', 'recall', 'f1-score']: #['precision']:            \n",
    "            #clf.fit(df.loc[df['label'] == 2], df.loc[df['label'] == 2].label)\n",
    "            print(i)\n",
    "            #bench.append((i, cr['I_PESSOA'][j], 'j'))        \n",
    "            bench.append((j, i, cr['2'][j]))\n",
    "            \n",
    "            \n",
    "        #benc = pd.DataFrame(bench, columns=['k', 'valor', 'metrica',])\n",
    "        #aux = benc.loc[benc['valor'] == benc.valor.max()],  benc.valor.max()\n",
    "        #maxi.append((j, benc.valor.max(), aux))\n",
    "        #benc.hist()\n",
    "        #ax = plt.axes()\n",
    "        #ax.plot(benc.k, benc.valor, label = j);\n",
    "        #plt.legend()\n",
    "        #plt.show()\n",
    "        \n",
    "    \n",
    "    return bench\n",
    "    \n",
    "\n",
    "df = fulldata\n",
    "\n",
    "df = df.fillna(0)\n",
    "\n",
    "\n",
    "from sklearn.metrics.pairwise import cosine_similarity\n",
    "\n",
    "from sklearn import preprocessing\n",
    "\n",
    "\n",
    "\n",
    "# Get column names first\n",
    "names = df.columns\n",
    "# Create the Scaler object\n",
    "scaler = preprocessing.StandardScaler()\n",
    "# Fit your data on the scaler object\n",
    "scaled_df = scaler.fit_transform(df)\n",
    "scaled_df = pd.DataFrame(scaled_df, columns=names)\n",
    "\n",
    "df = scaled_df\n"
   ]
  },
  {
   "cell_type": "code",
   "execution_count": 6,
   "metadata": {},
   "outputs": [
    {
     "name": "stdout",
     "output_type": "stream",
     "text": [
      "B_PESSOA-------------------------------------\n",
      "{'0': {'precision': 0.5331278890600925, 'recall': 0.5171898355754858, 'f1-score': 0.5250379362670713, 'support': 669}, '1': {'precision': 0.5108225108225108, 'recall': 0.24380165289256198, 'f1-score': 0.3300699300699301, 'support': 484}, '2': {'precision': 0.5768500948766604, 'recall': 0.5016501650165016, 'f1-score': 0.5366284201235657, 'support': 606}, '3': {'precision': 0.6809338521400778, 'recall': 0.4533678756476684, 'f1-score': 0.5443234836702955, 'support': 386}, '4': {'precision': 0.5844748858447488, 'recall': 0.5638766519823789, 'f1-score': 0.5739910313901346, 'support': 227}, '5': {'precision': 0.47513812154696133, 'recall': 0.2765273311897106, 'f1-score': 0.3495934959349593, 'support': 311}, '6': {'precision': 0.4355300859598854, 'recall': 0.30158730158730157, 'f1-score': 0.35638921453692846, 'support': 504}, '7': {'precision': 0.6254752851711026, 'recall': 0.591726618705036, 'f1-score': 0.6081330868761553, 'support': 556}, '8': {'precision': 0.7162790697674418, 'recall': 0.4095744680851064, 'f1-score': 0.521150592216582, 'support': 376}, '9': {'precision': 0.7297297297297297, 'recall': 0.29508196721311475, 'f1-score': 0.4202334630350194, 'support': 183}, '10': {'precision': 0.9599955101582669, 'recall': 0.9837132801177797, 'f1-score': 0.9717096891474277, 'support': 43471}, 'micro avg': {'precision': 0.9337701211981664, 'recall': 0.9337701211981664, 'f1-score': 0.9337701211981664, 'support': 47773}, 'macro avg': {'precision': 0.6207597304615888, 'recall': 0.46709974072842236, 'f1-score': 0.5215691221152791, 'support': 47773}, 'weighted avg': {'precision': 0.925184806210004, 'recall': 0.9337701211981664, 'f1-score': 0.9276603700403134, 'support': 47773}}\n",
      "20\n",
      "20\n",
      "20\n",
      "{'0': {'precision': 0.5345911949685535, 'recall': 0.5082212257100149, 'f1-score': 0.5210727969348659, 'support': 669}, '1': {'precision': 0.5087719298245614, 'recall': 0.2396694214876033, 'f1-score': 0.3258426966292135, 'support': 484}, '2': {'precision': 0.5725190839694656, 'recall': 0.49504950495049505, 'f1-score': 0.5309734513274336, 'support': 606}, '3': {'precision': 0.6862745098039216, 'recall': 0.4533678756476684, 'f1-score': 0.5460218408736349, 'support': 386}, '4': {'precision': 0.591743119266055, 'recall': 0.5682819383259912, 'f1-score': 0.5797752808988763, 'support': 227}, '5': {'precision': 0.45989304812834225, 'recall': 0.2765273311897106, 'f1-score': 0.3453815261044177, 'support': 311}, '6': {'precision': 0.4492753623188406, 'recall': 0.30753968253968256, 'f1-score': 0.3651354534746761, 'support': 504}, '7': {'precision': 0.6424474187380497, 'recall': 0.60431654676259, 'f1-score': 0.6227988878591288, 'support': 556}, '8': {'precision': 0.7069767441860465, 'recall': 0.40425531914893614, 'f1-score': 0.5143824027072759, 'support': 376}, '9': {'precision': 0.7692307692307693, 'recall': 0.273224043715847, 'f1-score': 0.40322580645161293, 'support': 183}, '10': {'precision': 0.9595531327814792, 'recall': 0.9839663223758368, 'f1-score': 0.9716063965109941, 'support': 43471}, 'micro avg': {'precision': 0.9338538505013292, 'recall': 0.9338538505013292, 'f1-score': 0.9338538505013292, 'support': 47773}, 'macro avg': {'precision': 0.6255705739287349, 'recall': 0.46494720107767057, 'f1-score': 0.5205651399792846, 'support': 47773}, 'weighted avg': {'precision': 0.9251261244706024, 'recall': 0.9338538505013292, 'f1-score': 0.9275546181045999, 'support': 47773}}\n",
      "21\n",
      "21\n",
      "21\n",
      "{'0': {'precision': 0.5434439178515008, 'recall': 0.5142002989536621, 'f1-score': 0.5284178187403994, 'support': 669}, '1': {'precision': 0.5045454545454545, 'recall': 0.22933884297520662, 'f1-score': 0.31534090909090906, 'support': 484}, '2': {'precision': 0.5853174603174603, 'recall': 0.4867986798679868, 'f1-score': 0.5315315315315317, 'support': 606}, '3': {'precision': 0.6892430278884463, 'recall': 0.4481865284974093, 'f1-score': 0.543171114599686, 'support': 386}, '4': {'precision': 0.57847533632287, 'recall': 0.5682819383259912, 'f1-score': 0.5733333333333334, 'support': 227}, '5': {'precision': 0.4708994708994709, 'recall': 0.2861736334405145, 'f1-score': 0.356, 'support': 311}, '6': {'precision': 0.45348837209302323, 'recall': 0.30952380952380953, 'f1-score': 0.3679245283018868, 'support': 504}, '7': {'precision': 0.6365384615384615, 'recall': 0.5953237410071942, 'f1-score': 0.6152416356877323, 'support': 556}, '8': {'precision': 0.7116279069767442, 'recall': 0.40691489361702127, 'f1-score': 0.5177664974619289, 'support': 376}, '9': {'precision': 0.7647058823529411, 'recall': 0.28415300546448086, 'f1-score': 0.41434262948207173, 'support': 183}, '10': {'precision': 0.959108640093261, 'recall': 0.9841503531089691, 'f1-score': 0.971468147189391, 'support': 43471}, 'micro avg': {'precision': 0.9338957151529106, 'recall': 0.9338957151529106, 'f1-score': 0.9338957151529106, 'support': 47773}, 'macro avg': {'precision': 0.6270358118981485, 'recall': 0.46482233861656785, 'f1-score': 0.5213216495835337, 'support': 47773}, 'weighted avg': {'precision': 0.9249927007869144, 'recall': 0.9338957151529106, 'f1-score': 0.9274585307216425, 'support': 47773}}\n",
      "22\n",
      "22\n",
      "22\n",
      "{'0': {'precision': 0.5425361155698234, 'recall': 0.5052316890881914, 'f1-score': 0.5232198142414861, 'support': 669}, '1': {'precision': 0.5, 'recall': 0.22933884297520662, 'f1-score': 0.3144475920679887, 'support': 484}, '2': {'precision': 0.5753424657534246, 'recall': 0.48514851485148514, 'f1-score': 0.5264100268576544, 'support': 606}, '3': {'precision': 0.6877470355731226, 'recall': 0.45077720207253885, 'f1-score': 0.5446009389671361, 'support': 386}, '4': {'precision': 0.5944700460829493, 'recall': 0.5682819383259912, 'f1-score': 0.5810810810810811, 'support': 227}, '5': {'precision': 0.46875, 'recall': 0.28938906752411575, 'f1-score': 0.3578528827037773, 'support': 311}, '6': {'precision': 0.45588235294117646, 'recall': 0.30753968253968256, 'f1-score': 0.36729857819905215, 'support': 504}, '7': {'precision': 0.6365384615384615, 'recall': 0.5953237410071942, 'f1-score': 0.6152416356877323, 'support': 556}, '8': {'precision': 0.7169811320754716, 'recall': 0.40425531914893614, 'f1-score': 0.5170068027210885, 'support': 376}, '9': {'precision': 0.7936507936507936, 'recall': 0.273224043715847, 'f1-score': 0.40650406504065045, 'support': 183}, '10': {'precision': 0.9587628865979382, 'recall': 0.9841043454256861, 'f1-score': 0.9712683475042853, 'support': 43471}, 'micro avg': {'precision': 0.9336654595692128, 'recall': 0.9336654595692128, 'f1-score': 0.9336654595692128, 'support': 47773}, 'macro avg': {'precision': 0.6300601172530147, 'recall': 0.4629649442431704, 'f1-score': 0.5204483422792665, 'support': 47773}, 'weighted avg': {'precision': 0.9247209728601935, 'recall': 0.9336654595692128, 'f1-score': 0.927147735119646, 'support': 47773}}\n",
      "23\n",
      "23\n",
      "23\n",
      "{'0': {'precision': 0.5442622950819672, 'recall': 0.4962630792227205, 'f1-score': 0.5191555903049258, 'support': 669}, '1': {'precision': 0.4870689655172414, 'recall': 0.2334710743801653, 'f1-score': 0.31564245810055863, 'support': 484}, '2': {'precision': 0.5745098039215686, 'recall': 0.4834983498349835, 'f1-score': 0.525089605734767, 'support': 606}, '3': {'precision': 0.6798418972332015, 'recall': 0.44559585492227977, 'f1-score': 0.5383411580594679, 'support': 386}, '4': {'precision': 0.5833333333333334, 'recall': 0.5550660792951542, 'f1-score': 0.5688487584650113, 'support': 227}, '5': {'precision': 0.4656084656084656, 'recall': 0.2829581993569132, 'f1-score': 0.352, 'support': 311}, '6': {'precision': 0.44510385756676557, 'recall': 0.2976190476190476, 'f1-score': 0.356718192627824, 'support': 504}, '7': {'precision': 0.63671875, 'recall': 0.5863309352517986, 'f1-score': 0.6104868913857678, 'support': 556}, '8': {'precision': 0.7142857142857143, 'recall': 0.39893617021276595, 'f1-score': 0.5119453924914676, 'support': 376}, '9': {'precision': 0.75, 'recall': 0.2786885245901639, 'f1-score': 0.4063745019920318, 'support': 183}, '10': {'precision': 0.9585536338381575, 'recall': 0.9842423684755354, 'f1-score': 0.9712281657530049, 'support': 43471}, 'micro avg': {'precision': 0.9333096100307705, 'recall': 0.9333096100307705, 'f1-score': 0.9333096100307705, 'support': 47773}, 'macro avg': {'precision': 0.6217533378533106, 'recall': 0.45842451665104794, 'f1-score': 0.5159846104468024, 'support': 47773}, 'weighted avg': {'precision': 0.9239758876784625, 'recall': 0.9333096100307705, 'f1-score': 0.9266955177920073, 'support': 47773}}\n",
      "24\n",
      "24\n",
      "24\n"
     ]
    },
    {
     "name": "stdout",
     "output_type": "stream",
     "text": [
      "{'0': {'precision': 0.5407166123778502, 'recall': 0.4962630792227205, 'f1-score': 0.5175370226032736, 'support': 669}, '1': {'precision': 0.4824561403508772, 'recall': 0.22727272727272727, 'f1-score': 0.3089887640449438, 'support': 484}, '2': {'precision': 0.5765407554671969, 'recall': 0.47854785478547857, 'f1-score': 0.5229936880072137, 'support': 606}, '3': {'precision': 0.6877470355731226, 'recall': 0.45077720207253885, 'f1-score': 0.5446009389671361, 'support': 386}, '4': {'precision': 0.5844748858447488, 'recall': 0.5638766519823789, 'f1-score': 0.5739910313901346, 'support': 227}, '5': {'precision': 0.45161290322580644, 'recall': 0.27009646302250806, 'f1-score': 0.33802816901408456, 'support': 311}, '6': {'precision': 0.45345345345345345, 'recall': 0.2996031746031746, 'f1-score': 0.36081242532855434, 'support': 504}, '7': {'precision': 0.6238003838771593, 'recall': 0.5845323741007195, 'f1-score': 0.6035283194057568, 'support': 556}, '8': {'precision': 0.7129186602870813, 'recall': 0.3962765957446808, 'f1-score': 0.5094017094017094, 'support': 376}, '9': {'precision': 0.7666666666666667, 'recall': 0.25136612021857924, 'f1-score': 0.37860082304526754, 'support': 183}, '10': {'precision': 0.9584070598248483, 'recall': 0.9843343838421016, 'f1-score': 0.9711977121586963, 'support': 43471}, 'micro avg': {'precision': 0.9331421514244448, 'recall': 0.9331421514244448, 'f1-score': 0.9331421514244448, 'support': 47773}, 'macro avg': {'precision': 0.6217085960862555, 'recall': 0.4548133297152371, 'f1-score': 0.5117891457606155, 'support': 47773}, 'weighted avg': {'precision': 0.9237408979765789, 'recall': 0.9331421514244448, 'f1-score': 0.92637099697612, 'support': 47773}}\n",
      "25\n",
      "25\n",
      "25\n",
      "{'0': {'precision': 0.5436893203883495, 'recall': 0.5022421524663677, 'f1-score': 0.5221445221445222, 'support': 669}, '1': {'precision': 0.4908256880733945, 'recall': 0.22107438016528927, 'f1-score': 0.30484330484330485, 'support': 484}, '2': {'precision': 0.5767716535433071, 'recall': 0.4834983498349835, 'f1-score': 0.526032315978456, 'support': 606}, '3': {'precision': 0.6867469879518072, 'recall': 0.4430051813471503, 'f1-score': 0.5385826771653545, 'support': 386}, '4': {'precision': 0.5720720720720721, 'recall': 0.5594713656387665, 'f1-score': 0.5657015590200446, 'support': 227}, '5': {'precision': 0.46774193548387094, 'recall': 0.2797427652733119, 'f1-score': 0.3501006036217304, 'support': 311}, '6': {'precision': 0.45645645645645644, 'recall': 0.30158730158730157, 'f1-score': 0.36320191158900833, 'support': 504}, '7': {'precision': 0.627151051625239, 'recall': 0.5899280575539568, 'f1-score': 0.6079703429101019, 'support': 556}, '8': {'precision': 0.7346938775510204, 'recall': 0.3829787234042553, 'f1-score': 0.5034965034965034, 'support': 376}, '9': {'precision': 0.7704918032786885, 'recall': 0.2568306010928962, 'f1-score': 0.38524590163934425, 'support': 183}, '10': {'precision': 0.958239100741172, 'recall': 0.9844263992086678, 'f1-score': 0.9711562464541019, 'support': 43471}, 'micro avg': {'precision': 0.9332886777049798, 'recall': 0.9332886777049798, 'f1-score': 0.9332886777049798, 'support': 47773}, 'macro avg': {'precision': 0.6258981770150343, 'recall': 0.4549804797793588, 'f1-score': 0.5125887171693156, 'support': 47773}, 'weighted avg': {'precision': 0.9240121142715797, 'recall': 0.9332886777049798, 'f1-score': 0.9264407935941085, 'support': 47773}}\n",
      "26\n",
      "26\n",
      "26\n",
      "{'0': {'precision': 0.5430894308943089, 'recall': 0.4992526158445441, 'f1-score': 0.5202492211838006, 'support': 669}, '1': {'precision': 0.47465437788018433, 'recall': 0.2128099173553719, 'f1-score': 0.2938659058487874, 'support': 484}, '2': {'precision': 0.5830039525691699, 'recall': 0.4867986798679868, 'f1-score': 0.5305755395683452, 'support': 606}, '3': {'precision': 0.6825396825396826, 'recall': 0.44559585492227977, 'f1-score': 0.5391849529780565, 'support': 386}, '4': {'precision': 0.573394495412844, 'recall': 0.5506607929515418, 'f1-score': 0.5617977528089887, 'support': 227}, '5': {'precision': 0.45108695652173914, 'recall': 0.26688102893890675, 'f1-score': 0.33535353535353535, 'support': 311}, '6': {'precision': 0.45454545454545453, 'recall': 0.30753968253968256, 'f1-score': 0.3668639053254438, 'support': 504}, '7': {'precision': 0.6247619047619047, 'recall': 0.5899280575539568, 'f1-score': 0.606845513413506, 'support': 556}, '8': {'precision': 0.7236180904522613, 'recall': 0.3829787234042553, 'f1-score': 0.5008695652173913, 'support': 376}, '9': {'precision': 0.7457627118644068, 'recall': 0.24043715846994534, 'f1-score': 0.3636363636363636, 'support': 183}, '10': {'precision': 0.9582148375394675, 'recall': 0.9843573876837431, 'f1-score': 0.9711102033405955, 'support': 43471}, 'micro avg': {'precision': 0.9330374897954912, 'recall': 0.9330374897954912, 'f1-score': 0.9330374897954913, 'support': 47773}, 'macro avg': {'precision': 0.619515626816493, 'recall': 0.45156726359383764, 'f1-score': 0.5082138598795285, 'support': 47773}, 'weighted avg': {'precision': 0.9235308555860939, 'recall': 0.9330374897954912, 'f1-score': 0.9261311747188049, 'support': 47773}}\n",
      "27\n",
      "27\n",
      "27\n",
      "{'0': {'precision': 0.5383386581469649, 'recall': 0.5037369207772795, 'f1-score': 0.5204633204633204, 'support': 669}, '1': {'precision': 0.4811320754716981, 'recall': 0.21074380165289255, 'f1-score': 0.2931034482758621, 'support': 484}, '2': {'precision': 0.5931174089068826, 'recall': 0.4834983498349835, 'f1-score': 0.5327272727272727, 'support': 606}, '3': {'precision': 0.678714859437751, 'recall': 0.4378238341968912, 'f1-score': 0.5322834645669291, 'support': 386}, '4': {'precision': 0.5675675675675675, 'recall': 0.5550660792951542, 'f1-score': 0.5612472160356348, 'support': 227}, '5': {'precision': 0.46111111111111114, 'recall': 0.26688102893890675, 'f1-score': 0.33808553971486766, 'support': 311}, '6': {'precision': 0.45722713864306785, 'recall': 0.30753968253968256, 'f1-score': 0.36773428232502964, 'support': 504}, '7': {'precision': 0.627906976744186, 'recall': 0.5827338129496403, 'f1-score': 0.6044776119402985, 'support': 556}, '8': {'precision': 0.7258883248730964, 'recall': 0.3803191489361702, 'f1-score': 0.4991273996509598, 'support': 376}, '9': {'precision': 0.7627118644067796, 'recall': 0.2459016393442623, 'f1-score': 0.371900826446281, 'support': 183}, '10': {'precision': 0.9580339756932787, 'recall': 0.9846564376250834, 'f1-score': 0.9711627906976745, 'support': 43471}, 'micro avg': {'precision': 0.9331840160760262, 'recall': 0.9331840160760262, 'f1-score': 0.9331840160760262, 'support': 47773}, 'macro avg': {'precision': 0.6228863600911257, 'recall': 0.45080915782644965, 'f1-score': 0.5083921066221937, 'support': 47773}, 'weighted avg': {'precision': 0.9236480221340437, 'recall': 0.9331840160760262, 'f1-score': 0.9261605709145357, 'support': 47773}}\n",
      "28\n",
      "28\n",
      "28\n",
      "{'0': {'precision': 0.5488, 'recall': 0.5127055306427504, 'f1-score': 0.5301391035548686, 'support': 669}, '1': {'precision': 0.4830917874396135, 'recall': 0.2066115702479339, 'f1-score': 0.2894356005788712, 'support': 484}, '2': {'precision': 0.5871743486973948, 'recall': 0.4834983498349835, 'f1-score': 0.530316742081448, 'support': 606}, '3': {'precision': 0.671875, 'recall': 0.44559585492227977, 'f1-score': 0.5358255451713395, 'support': 386}, '4': {'precision': 0.5714285714285714, 'recall': 0.5462555066079295, 'f1-score': 0.5585585585585586, 'support': 227}, '5': {'precision': 0.4692737430167598, 'recall': 0.27009646302250806, 'f1-score': 0.34285714285714286, 'support': 311}, '6': {'precision': 0.45614035087719296, 'recall': 0.30952380952380953, 'f1-score': 0.36879432624113473, 'support': 504}, '7': {'precision': 0.625, 'recall': 0.5845323741007195, 'f1-score': 0.604089219330855, 'support': 556}, '8': {'precision': 0.7208121827411168, 'recall': 0.3776595744680851, 'f1-score': 0.4956369982547993, 'support': 376}, '9': {'precision': 0.7777777777777778, 'recall': 0.22950819672131148, 'f1-score': 0.35443037974683544, 'support': 183}, '10': {'precision': 0.958099245696891, 'recall': 0.9846794414667249, 'f1-score': 0.9712075146344784, 'support': 43471}, 'micro avg': {'precision': 0.9332886777049798, 'recall': 0.9332886777049798, 'f1-score': 0.9332886777049798, 'support': 47773}, 'macro avg': {'precision': 0.6244975461523017, 'recall': 0.4500606065053669, 'f1-score': 0.5073901028191211, 'support': 47773}, 'weighted avg': {'precision': 0.9237870598622556, 'recall': 0.9332886777049798, 'f1-score': 0.9262282031106192, 'support': 47773}}\n",
      "29\n",
      "29\n",
      "29\n"
     ]
    },
    {
     "data": {
      "text/plain": [
       "'\\n\\ncosimi = cosine_similarity(scaled_df)\\n\\n\\ndfS = pd.DataFrame(scaled_df)\\n\\n\\ncosimi.sort(axis=0)\\ncosimi.sort(axis=1)\\n\\nmetrics = classifica(scaled_df, 50)\\n\\n\\nmetrics = classifica(scaled_df, 100)\\n\\nfrom numpy import linalg as LA\\nw, v = LA.eigh(scaled_df.cov())\\nwS = pd.Series(w)\\nwS.hist()\\n#v.shape\\n#w.shape\\ndf5 = pd.DataFrame(w)\\n#df5 = pd.DataFrame(v)\\n\\n#df.cov()\\n\\nplt.matshow(cosimi)\\nplt.show()\\n'"
      ]
     },
     "execution_count": 6,
     "metadata": {},
     "output_type": "execute_result"
    },
    {
     "data": {
      "text/plain": [
       "<Figure size 432x288 with 0 Axes>"
      ]
     },
     "metadata": {},
     "output_type": "display_data"
    },
    {
     "data": {
      "text/plain": [
       "<Figure size 432x288 with 0 Axes>"
      ]
     },
     "metadata": {},
     "output_type": "display_data"
    },
    {
     "data": {
      "text/plain": [
       "<Figure size 432x288 with 0 Axes>"
      ]
     },
     "metadata": {},
     "output_type": "display_data"
    },
    {
     "data": {
      "text/plain": [
       "<Figure size 432x288 with 0 Axes>"
      ]
     },
     "metadata": {},
     "output_type": "display_data"
    },
    {
     "data": {
      "text/plain": [
       "<Figure size 432x288 with 0 Axes>"
      ]
     },
     "metadata": {},
     "output_type": "display_data"
    },
    {
     "data": {
      "text/plain": [
       "<Figure size 432x288 with 0 Axes>"
      ]
     },
     "metadata": {},
     "output_type": "display_data"
    },
    {
     "data": {
      "text/plain": [
       "<Figure size 432x288 with 0 Axes>"
      ]
     },
     "metadata": {},
     "output_type": "display_data"
    },
    {
     "data": {
      "text/plain": [
       "<Figure size 432x288 with 0 Axes>"
      ]
     },
     "metadata": {},
     "output_type": "display_data"
    },
    {
     "data": {
      "text/plain": [
       "<Figure size 432x288 with 0 Axes>"
      ]
     },
     "metadata": {},
     "output_type": "display_data"
    },
    {
     "data": {
      "text/plain": [
       "<Figure size 432x288 with 0 Axes>"
      ]
     },
     "metadata": {},
     "output_type": "display_data"
    }
   ],
   "source": [
    "\n",
    "metrics = classifica(scaled_df, 100)\n",
    "\n",
    "'''\n",
    "\n",
    "cosimi = cosine_similarity(scaled_df)\n",
    "\n",
    "\n",
    "dfS = pd.DataFrame(scaled_df)\n",
    "\n",
    "\n",
    "cosimi.sort(axis=0)\n",
    "cosimi.sort(axis=1)\n",
    "\n",
    "metrics = classifica(scaled_df, 50)\n",
    "\n",
    "\n",
    "metrics = classifica(scaled_df, 100)\n",
    "\n",
    "from numpy import linalg as LA\n",
    "w, v = LA.eigh(scaled_df.cov())\n",
    "wS = pd.Series(w)\n",
    "wS.hist()\n",
    "#v.shape\n",
    "#w.shape\n",
    "df5 = pd.DataFrame(w)\n",
    "#df5 = pd.DataFrame(v)\n",
    "\n",
    "#df.cov()\n",
    "\n",
    "plt.matshow(cosimi)\n",
    "plt.show()\n",
    "'''\n"
   ]
  },
  {
   "cell_type": "markdown",
   "metadata": {},
   "source": [
    "metr = pd.DataFrame(metrics, columns=['metrica', 'k', 'valor',])"
   ]
  },
  {
   "cell_type": "markdown",
   "metadata": {},
   "source": [
    "print(metr)\n"
   ]
  },
  {
   "cell_type": "code",
   "execution_count": null,
   "metadata": {},
   "outputs": [],
   "source": [
    "\n",
    "import seaborn as sns\n",
    "\n",
    "\n",
    "\n",
    "pivot = metr.pivot_table(index=[ 'k', ], columns=['metrica'],fill_value=0,  aggfunc=['mean'])\n",
    "\n",
    "\n"
   ]
  },
  {
   "cell_type": "code",
   "execution_count": 8,
   "metadata": {},
   "outputs": [
    {
     "data": {
      "image/png": "[encoded data removed]",
      "text/plain": [
       "<Figure size 432x288 with 1 Axes>"
      ]
     },
     "metadata": {},
     "output_type": "display_data"
    }
   ],
   "source": [
    "\n",
    "import seaborn as sns; sns.set()\n",
    "import matplotlib.pyplot as plt\n",
    "\n",
    "metr = pd.DataFrame(metrics, columns=['metrica', 'k', 'score',])\n",
    "sns.set(style=\"ticks\", color_codes=True)\n",
    "\n",
    "\n",
    "#kind=\"count\"\n",
    "#sns.catplot(x=\"k\", y=\"valor\", kind=\"violin\", data=metr, hue=\"metrica\");\n",
    "ax = sns.lineplot(x=\"k\", y=\"score\", hue=\"metrica\", data=metr);\n"
   ]
  },
  {
   "cell_type": "code",
   "execution_count": null,
   "metadata": {},
   "outputs": [],
   "source": [
    "k = [,,,,,,,,,,,,,0,2,18,,,0,9,722,1,8,7160,9,0,0,0,0,0,0,0,0,870]\n"
   ]
  },
  {
   "cell_type": "raw",
   "metadata": {},
   "source": [
    "k = [,,,,,,,,,,,,,0,2,18,,,0,9,722,1,8,7160,9,0,0,0,0,0,0,0,0,870]"
   ]
  },
  {
   "cell_type": "code",
   "execution_count": null,
   "metadata": {},
   "outputs": [],
   "source": []
  },
  {
   "cell_type": "code",
   "execution_count": null,
   "metadata": {},
   "outputs": [],
   "source": []
  },
  {
   "cell_type": "code",
   "execution_count": null,
   "metadata": {},
   "outputs": [],
   "source": []
  },
  {
   "cell_type": "code",
   "execution_count": null,
   "metadata": {},
   "outputs": [],
   "source": []
  }
 ],
 "metadata": {
  "kernelspec": {
   "display_name": "Python 3",
   "language": "python",
   "name": "python3"
  },
  "language_info": {
   "codemirror_mode": {
    "name": "ipython",
    "version": 3
   },
   "file_extension": ".py",
   "mimetype": "text/x-python",
   "name": "python",
   "nbconvert_exporter": "python",
   "pygments_lexer": "ipython3",
   "version": "3.6.8"
  }
 },
 "nbformat": 4,
 "nbformat_minor": 2
}
