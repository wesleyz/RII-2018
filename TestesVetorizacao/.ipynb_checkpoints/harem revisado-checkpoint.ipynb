{
 "cells": [
  {
   "cell_type": "code",
   "execution_count": null,
   "metadata": {},
   "outputs": [],
   "source": [
    "\n",
    "#!/usr/bin/env python3\n",
    "# -*- coding: utf-8 -*-\n",
    "\"\"\"\n",
    "Created on Fri Jun  7 12:52:01 2019\n",
    "\n",
    "@author: wesleyz\n",
    "\"\"\"\n",
    "%matplotlib inline\n",
    "import os\n",
    "import numpy as np\n",
    "import matplotlib.pyplot as plt\n",
    "from matplotlib.colors import ListedColormap\n",
    "from sklearn import neighbors, datasets\n",
    "from sklearn.metrics import confusion_matrix\n",
    "from sklearn.metrics import classification_report\n",
    "import pandas as pd \n",
    "from sklearn import preprocessing\n",
    "\n",
    "path = os.getcwd() # my actual path    \n",
    "# Read data from file 'filename.csv' \n",
    "# (in the same directory that your python process is based)\n",
    "# Control delimiters, rows, column names with read_csv (see later) \n",
    "\n",
    "\n",
    "#\"features-harem-cd-1.csv\"\n",
    "#\"labels-harem-cd-1.csv\"\n",
    "\n",
    "filedata = path + '/features-CDsHarem-revisado_treino.csv'\n",
    "fileLabel = path + '/labels-names-CDsHarem-revisado_treino.csv'\n",
    "fullfile = path + '/full-CDsHarem-revisado_treino.csv'\n",
    "\n",
    "#data = pd.read_csv(\"features-harem-cd-1.csv\") \n",
    "data = pd.read_csv(filedata) \n",
    "label = pd.read_csv(fileLabel) \n",
    "fulldata = pd.read_csv(fullfile) \n",
    "\n",
    "\n",
    "\n",
    "def classifica(df, k):\n",
    "    bench = []\n",
    "    # Preview the first 5 lines of the loaded data \n",
    "    from sklearn.model_selection import train_test_split\n",
    "    X_train, X_test, y_train, y_test = train_test_split(df.loc[:, df.columns != 'label'], fulldata.label, test_size=0.20, random_state=42)\n",
    "    maxi = []\n",
    "    print('B_PESSOA-------------------------------------')\n",
    "    for i in range(2,k,10):    \n",
    "        \n",
    "        fig = plt.figure()    \n",
    "        clf = neighbors.KNeighborsClassifier(i, n_jobs = 20)\n",
    "        clf.fit(X_train,y_train)\n",
    "        y_pred = clf.predict(X_test)        \n",
    "        #y_pred = clf.predict(fulldata.loc[:, fulldata.columns != 'label'])        \n",
    "        cr = classification_report(y_test, y_pred, output_dict=True)            \n",
    "        print(cr)\n",
    "        for j in  ['precision', 'recall', 'f1-score']: #['precision']:            \n",
    "            #clf.fit(df.loc[df['label'] == 2], df.loc[df['label'] == 2].label)\n",
    "            print(i)\n",
    "            #bench.append((i, cr['I_PESSOA'][j], 'j'))        \n",
    "            bench.append((j, i, cr['2'][j]))\n",
    "            \n",
    "            \n",
    "        #benc = pd.DataFrame(bench, columns=['k', 'valor', 'metrica',])\n",
    "        #aux = benc.loc[benc['valor'] == benc.valor.max()],  benc.valor.max()\n",
    "        #maxi.append((j, benc.valor.max(), aux))\n",
    "        #benc.hist()\n",
    "        #ax = plt.axes()\n",
    "        #ax.plot(benc.k, benc.valor, label = j);\n",
    "        #plt.legend()\n",
    "        #plt.show()\n",
    "        \n",
    "    \n",
    "    return bench\n",
    "    \n",
    "\n",
    "df = fulldata\n",
    "\n",
    "df = df.fillna(0)\n",
    "\n",
    "\n",
    "from sklearn.metrics.pairwise import cosine_similarity\n",
    "\n",
    "from sklearn import preprocessing\n",
    "\n",
    "\n",
    "\n",
    "# Get column names first\n",
    "names = df.columns\n",
    "# Create the Scaler object\n",
    "scaler = preprocessing.StandardScaler()\n",
    "# Fit your data on the scaler object\n",
    "scaled_df = scaler.fit_transform(df)\n",
    "scaled_df = pd.DataFrame(scaled_df, columns=names)\n",
    "\n",
    "df = scaled_df\n",
    "\n",
    "df"
   ]
  },
  {
   "cell_type": "code",
   "execution_count": null,
   "metadata": {},
   "outputs": [
    {
     "name": "stdout",
     "output_type": "stream",
     "text": [
      "B_PESSOA-------------------------------------\n",
      "{'0': {'precision': 0.411386593204775, 'recall': 0.6696562032884903, 'f1-score': 0.5096700796359499, 'support': 669}, '1': {'precision': 0.3316831683168317, 'recall': 0.4152892561983471, 'f1-score': 0.36880733944954136, 'support': 484}, '2': {'precision': 0.4312267657992565, 'recall': 0.5742574257425742, 'f1-score': 0.49256900212314225, 'support': 606}, '3': {'precision': 0.42802303262955854, 'recall': 0.5777202072538861, 'f1-score': 0.4917309812568909, 'support': 386}, '4': {'precision': 0.6081632653061224, 'recall': 0.6563876651982379, 'f1-score': 0.6313559322033898, 'support': 227}, '5': {'precision': 0.3216494845360825, 'recall': 0.5016077170418006, 'f1-score': 0.39195979899497485, 'support': 311}, '6': {'precision': 0.34782608695652173, 'recall': 0.42857142857142855, 'f1-score': 0.38399999999999995, 'support': 504}, '7': {'precision': 0.5746527777777778, 'recall': 0.5953237410071942, 'f1-score': 0.5848056537102473, 'support': 556}, '8': {'precision': 0.35589941972920697, 'recall': 0.48936170212765956, 'f1-score': 0.4120940649496081, 'support': 376}, '9': {'precision': 0.5062240663900415, 'recall': 0.6666666666666666, 'f1-score': 0.5754716981132075, 'support': 183}, '10': {'precision': 0.9809580411268275, 'recall': 0.94923052149709, 'f1-score': 0.9648335203890759, 'support': 43471}, 'micro avg': {'precision': 0.9135285621585414, 'recall': 0.9135285621585414, 'f1-score': 0.9135285621585414, 'support': 47773}, 'macro avg': {'precision': 0.48160842743390925, 'recall': 0.5930975031448523, 'f1-score': 0.5279361882569116, 'support': 47773}, 'weighted avg': {'precision': 0.9307532315317505, 'recall': 0.9135285621585414, 'f1-score': 0.920901322947933, 'support': 47773}}\n",
      "{'0': {'precision': 0.411386593204775, 'recall': 0.6696562032884903, 'f1-score': 0.5096700796359499, 'support': 669}, '1': {'precision': 0.3316831683168317, 'recall': 0.4152892561983471, 'f1-score': 0.36880733944954136, 'support': 484}, '2': {'precision': 0.4312267657992565, 'recall': 0.5742574257425742, 'f1-score': 0.49256900212314225, 'support': 606}, '3': {'precision': 0.42802303262955854, 'recall': 0.5777202072538861, 'f1-score': 0.4917309812568909, 'support': 386}, '4': {'precision': 0.6081632653061224, 'recall': 0.6563876651982379, 'f1-score': 0.6313559322033898, 'support': 227}, '5': {'precision': 0.3216494845360825, 'recall': 0.5016077170418006, 'f1-score': 0.39195979899497485, 'support': 311}, '6': {'precision': 0.34782608695652173, 'recall': 0.42857142857142855, 'f1-score': 0.38399999999999995, 'support': 504}, '7': {'precision': 0.5746527777777778, 'recall': 0.5953237410071942, 'f1-score': 0.5848056537102473, 'support': 556}, '8': {'precision': 0.35589941972920697, 'recall': 0.48936170212765956, 'f1-score': 0.4120940649496081, 'support': 376}, '9': {'precision': 0.5062240663900415, 'recall': 0.6666666666666666, 'f1-score': 0.5754716981132075, 'support': 183}, '10': {'precision': 0.9809580411268275, 'recall': 0.94923052149709, 'f1-score': 0.9648335203890759, 'support': 43471}, 'micro avg': {'precision': 0.9135285621585414, 'recall': 0.9135285621585414, 'f1-score': 0.9135285621585414, 'support': 47773}, 'macro avg': {'precision': 0.48160842743390925, 'recall': 0.5930975031448523, 'f1-score': 0.5279361882569116, 'support': 47773}, 'weighted avg': {'precision': 0.9307532315317505, 'recall': 0.9135285621585414, 'f1-score': 0.920901322947933, 'support': 47773}}\n",
      "{'0': {'precision': 0.411386593204775, 'recall': 0.6696562032884903, 'f1-score': 0.5096700796359499, 'support': 669}, '1': {'precision': 0.3316831683168317, 'recall': 0.4152892561983471, 'f1-score': 0.36880733944954136, 'support': 484}, '2': {'precision': 0.4312267657992565, 'recall': 0.5742574257425742, 'f1-score': 0.49256900212314225, 'support': 606}, '3': {'precision': 0.42802303262955854, 'recall': 0.5777202072538861, 'f1-score': 0.4917309812568909, 'support': 386}, '4': {'precision': 0.6081632653061224, 'recall': 0.6563876651982379, 'f1-score': 0.6313559322033898, 'support': 227}, '5': {'precision': 0.3216494845360825, 'recall': 0.5016077170418006, 'f1-score': 0.39195979899497485, 'support': 311}, '6': {'precision': 0.34782608695652173, 'recall': 0.42857142857142855, 'f1-score': 0.38399999999999995, 'support': 504}, '7': {'precision': 0.5746527777777778, 'recall': 0.5953237410071942, 'f1-score': 0.5848056537102473, 'support': 556}, '8': {'precision': 0.35589941972920697, 'recall': 0.48936170212765956, 'f1-score': 0.4120940649496081, 'support': 376}, '9': {'precision': 0.5062240663900415, 'recall': 0.6666666666666666, 'f1-score': 0.5754716981132075, 'support': 183}, '10': {'precision': 0.9809580411268275, 'recall': 0.94923052149709, 'f1-score': 0.9648335203890759, 'support': 43471}, 'micro avg': {'precision': 0.9135285621585414, 'recall': 0.9135285621585414, 'f1-score': 0.9135285621585414, 'support': 47773}, 'macro avg': {'precision': 0.48160842743390925, 'recall': 0.5930975031448523, 'f1-score': 0.5279361882569116, 'support': 47773}, 'weighted avg': {'precision': 0.9307532315317505, 'recall': 0.9135285621585414, 'f1-score': 0.920901322947933, 'support': 47773}}\n",
      "{'0': {'precision': 0.5221112696148359, 'recall': 0.547085201793722, 'f1-score': 0.5343065693430658, 'support': 669}, '1': {'precision': 0.48727272727272725, 'recall': 0.2768595041322314, 'f1-score': 0.35309617918313574, 'support': 484}, '2': {'precision': 0.5706806282722513, 'recall': 0.5396039603960396, 'f1-score': 0.55470737913486, 'support': 606}, '3': {'precision': 0.6853932584269663, 'recall': 0.4740932642487047, 'f1-score': 0.5604900459418071, 'support': 386}, '4': {'precision': 0.6521739130434783, 'recall': 0.5947136563876652, 'f1-score': 0.6221198156682027, 'support': 227}, '5': {'precision': 0.47619047619047616, 'recall': 0.3215434083601286, 'f1-score': 0.3838771593090211, 'support': 311}, '6': {'precision': 0.4410958904109589, 'recall': 0.3194444444444444, 'f1-score': 0.37054085155350974, 'support': 504}, '7': {'precision': 0.6332703213610587, 'recall': 0.6025179856115108, 'f1-score': 0.6175115207373272, 'support': 556}, '8': {'precision': 0.7395348837209302, 'recall': 0.4228723404255319, 'f1-score': 0.5380710659898477, 'support': 376}, '9': {'precision': 0.6857142857142857, 'recall': 0.39344262295081966, 'f1-score': 0.5, 'support': 183}, '10': {'precision': 0.9630465189730633, 'recall': 0.9819879919946631, 'f1-score': 0.9724250259120472, 'support': 43471}, 'micro avg': {'precision': 0.9348376698134929, 'recall': 0.9348376698134929, 'f1-score': 0.9348376698134929, 'support': 47773}, 'macro avg': {'precision': 0.6233167430000939, 'recall': 0.4976513073404966, 'f1-score': 0.5461041466157113, 'support': 47773}, 'weighted avg': {'precision': 0.9280183806438975, 'recall': 0.9348376698134929, 'f1-score': 0.930183377362818, 'support': 47773}}\n"
     ]
    }
   ],
   "source": [
    "\n",
    "metrics = classifica(scaled_df, 50)\n",
    "\n",
    "'''\n",
    "\n",
    "cosimi = cosine_similarity(scaled_df)\n",
    "\n",
    "\n",
    "dfS = pd.DataFrame(scaled_df)\n",
    "\n",
    "\n",
    "cosimi.sort(axis=0)\n",
    "cosimi.sort(axis=1)\n",
    "\n",
    "metrics = classifica(scaled_df, 50)\n",
    "\n",
    "\n",
    "metrics = classifica(scaled_df, 100)\n",
    "\n",
    "from numpy import linalg as LA\n",
    "w, v = LA.eigh(scaled_df.cov())\n",
    "wS = pd.Series(w)\n",
    "wS.hist()\n",
    "#v.shape\n",
    "#w.shape\n",
    "df5 = pd.DataFrame(w)\n",
    "#df5 = pd.DataFrame(v)\n",
    "\n",
    "#df.cov()\n",
    "\n",
    "plt.matshow(cosimi)\n",
    "plt.show()\n",
    "'''\n"
   ]
  },
  {
   "cell_type": "markdown",
   "metadata": {},
   "source": [
    "metr = pd.DataFrame(metrics, columns=['metrica', 'k', 'valor',])"
   ]
  },
  {
   "cell_type": "markdown",
   "metadata": {},
   "source": [
    "print(metr)\n"
   ]
  },
  {
   "cell_type": "code",
   "execution_count": null,
   "metadata": {},
   "outputs": [],
   "source": [
    "\n",
    "import seaborn as sns\n",
    "metr = pd.DataFrame(metrics, columns=['metrica', 'k', 'score',])\n",
    "\n",
    "\n",
    "pivot = metr.pivot_table(index=[ 'k', ], columns=['metrica'],fill_value=0,  aggfunc=['mean'])\n",
    "\n",
    "\n"
   ]
  },
  {
   "cell_type": "code",
   "execution_count": null,
   "metadata": {},
   "outputs": [],
   "source": [
    "\n",
    "import seaborn as sns; sns.set()\n",
    "import matplotlib.pyplot as plt\n",
    "\n",
    "\n",
    "sns.set(style=\"ticks\", color_codes=True)\n",
    "\n",
    "\n",
    "#kind=\"count\"\n",
    "#sns.catplot(x=\"k\", y=\"valor\", kind=\"violin\", data=metr, hue=\"metrica\");\n",
    "ax = sns.lineplot(x=\"k\", y=\"score\", hue=\"metrica\", data=metr);\n"
   ]
  },
  {
   "cell_type": "code",
   "execution_count": 6,
   "metadata": {},
   "outputs": [
    {
     "ename": "SyntaxError",
     "evalue": "invalid syntax (<ipython-input-6-8b48bb6cdc68>, line 1)",
     "output_type": "error",
     "traceback": [
      "\u001b[0;36m  File \u001b[0;32m\"<ipython-input-6-8b48bb6cdc68>\"\u001b[0;36m, line \u001b[0;32m1\u001b[0m\n\u001b[0;31m    k = [,,,,,,,,,,,,,0,2,18,,,0,9,722,1,8,7160,9,0,0,0,0,0,0,0,0,870]\u001b[0m\n\u001b[0m         ^\u001b[0m\n\u001b[0;31mSyntaxError\u001b[0m\u001b[0;31m:\u001b[0m invalid syntax\n"
     ]
    }
   ],
   "source": [
    "k = [,,,,,,,,,,,,,0,2,18,,,0,9,722,1,8,7160,9,0,0,0,0,0,0,0,0,870]\n"
   ]
  },
  {
   "cell_type": "raw",
   "metadata": {},
   "source": [
    "k = [,,,,,,,,,,,,,0,2,18,,,0,9,722,1,8,7160,9,0,0,0,0,0,0,0,0,870]"
   ]
  },
  {
   "cell_type": "code",
   "execution_count": null,
   "metadata": {},
   "outputs": [],
   "source": []
  },
  {
   "cell_type": "code",
   "execution_count": null,
   "metadata": {},
   "outputs": [],
   "source": []
  },
  {
   "cell_type": "code",
   "execution_count": null,
   "metadata": {},
   "outputs": [],
   "source": []
  },
  {
   "cell_type": "code",
   "execution_count": null,
   "metadata": {},
   "outputs": [],
   "source": []
  }
 ],
 "metadata": {
  "kernelspec": {
   "display_name": "Python 3",
   "language": "python",
   "name": "python3"
  },
  "language_info": {
   "codemirror_mode": {
    "name": "ipython",
    "version": 3
   },
   "file_extension": ".py",
   "mimetype": "text/x-python",
   "name": "python",
   "nbconvert_exporter": "python",
   "pygments_lexer": "ipython3",
   "version": "3.6.8"
  }
 },
 "nbformat": 4,
 "nbformat_minor": 2
}
